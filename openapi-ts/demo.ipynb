{
 "cells": [
  {
   "cell_type": "code",
   "execution_count": 1,
   "metadata": {},
   "outputs": [],
   "source": [
    "from fastapi import FastAPI\n",
    "from pydantic import BaseModel\n",
    "from openapi_ts import generate_client"
   ]
  },
  {
   "cell_type": "code",
   "execution_count": 2,
   "metadata": {},
   "outputs": [
    {
     "name": "stdout",
     "output_type": "stream",
     "text": [
      "✨ Creating Fetch client\n",
      "✨ Done! Your client is located in: /home/m4rs/mr-github/lib/both/codegen/openapi-ts/client/src\n"
     ]
    }
   ],
   "source": [
    "app = FastAPI(generate_unique_id_function=lambda route: route.name)\n",
    "\n",
    "class User(BaseModel):\n",
    "  name: str\n",
    "  email: str\n",
    "\n",
    "@app.get('/users', name='get_users')\n",
    "def get_users(how_many: int | None = None) -> list[User]:\n",
    "  return []\n",
    "\n",
    "generate_client(app.openapi(), 'client')"
   ]
  }
 ],
 "metadata": {
  "kernelspec": {
   "display_name": ".venv",
   "language": "python",
   "name": "python3"
  },
  "language_info": {
   "codemirror_mode": {
    "name": "ipython",
    "version": 3
   },
   "file_extension": ".py",
   "mimetype": "text/x-python",
   "name": "python",
   "nbconvert_exporter": "python",
   "pygments_lexer": "ipython3",
   "version": "3.11.6"
  }
 },
 "nbformat": 4,
 "nbformat_minor": 2
}
