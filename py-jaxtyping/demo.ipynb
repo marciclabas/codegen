{
 "cells": [
  {
   "cell_type": "code",
   "execution_count": 1,
   "metadata": {},
   "outputs": [],
   "source": [
    "from pydantic import BaseModel, ConfigDict\n",
    "from py_jaxtyping import PyArray\n",
    "from jaxtyping import Int\n",
    "import numpy as np\n",
    "\n",
    "class Sample(BaseModel):\n",
    "  model_config = ConfigDict(arbitrary_types_allowed=True)\n",
    "  img: PyArray[Int, \"W H 3\"]\n",
    "  label: str\n",
    "\n",
    "x = Sample.model_validate({\n",
    "  'img': np.ones((256, 64, 3), dtype=int),\n",
    "  'label': 'car'\n",
    "})"
   ]
  }
 ],
 "metadata": {
  "kernelspec": {
   "display_name": ".venv",
   "language": "python",
   "name": "python3"
  },
  "language_info": {
   "codemirror_mode": {
    "name": "ipython",
    "version": 3
   },
   "file_extension": ".py",
   "mimetype": "text/x-python",
   "name": "python",
   "nbconvert_exporter": "python",
   "pygments_lexer": "ipython3",
   "version": "3.11.6"
  }
 },
 "nbformat": 4,
 "nbformat_minor": 2
}
