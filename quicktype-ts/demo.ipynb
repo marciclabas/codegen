{
 "cells": [
  {
   "cell_type": "code",
   "execution_count": 7,
   "metadata": {},
   "outputs": [],
   "source": [
    "from pydantic import BaseModel, ConfigDict\n",
    "from quicktype_ts import pydantic2typescript"
   ]
  },
  {
   "cell_type": "code",
   "execution_count": 9,
   "metadata": {},
   "outputs": [
    {
     "name": "stdout",
     "output_type": "stream",
     "text": [
      "export type User = {\n",
      "    age:     number;\n",
      "    friends: User[];\n",
      "    name:    string;\n",
      "}\n",
      "\n"
     ]
    }
   ],
   "source": [
    "class User(BaseModel):\n",
    "  model_config = ConfigDict(extra='forbid')\n",
    "  name: str\n",
    "  age: int\n",
    "  friends: list['User']\n",
    "\n",
    "print(pydantic2typescript(User).decode())"
   ]
  }
 ],
 "metadata": {
  "kernelspec": {
   "display_name": ".venv",
   "language": "python",
   "name": "python3"
  },
  "language_info": {
   "codemirror_mode": {
    "name": "ipython",
    "version": 3
   },
   "file_extension": ".py",
   "mimetype": "text/x-python",
   "name": "python",
   "nbconvert_exporter": "python",
   "pygments_lexer": "ipython3",
   "version": "3.11.6"
  }
 },
 "nbformat": 4,
 "nbformat_minor": 2
}
