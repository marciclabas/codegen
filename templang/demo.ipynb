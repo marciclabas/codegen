{
 "cells": [
  {
   "cell_type": "code",
   "execution_count": 3,
   "metadata": {},
   "outputs": [],
   "source": [
    "from templang import parse"
   ]
  },
  {
   "cell_type": "code",
   "execution_count": 5,
   "metadata": {},
   "outputs": [
    {
     "ename": "IndexError",
     "evalue": "list index out of range",
     "output_type": "error",
     "traceback": [
      "\u001b[0;31m---------------------------------------------------------------------------\u001b[0m",
      "\u001b[0;31mIndexError\u001b[0m                                Traceback (most recent call last)",
      "Cell \u001b[0;32mIn[5], line 2\u001b[0m\n\u001b[1;32m      1\u001b[0m source \u001b[38;5;241m=\u001b[39m \u001b[38;5;28mopen\u001b[39m(\u001b[38;5;124m'\u001b[39m\u001b[38;5;124mexample.py\u001b[39m\u001b[38;5;124m'\u001b[39m)\u001b[38;5;241m.\u001b[39mread()\n\u001b[0;32m----> 2\u001b[0m code \u001b[38;5;241m=\u001b[39m \u001b[43mparse\u001b[49m\u001b[43m(\u001b[49m\u001b[43msource\u001b[49m\u001b[43m,\u001b[49m\u001b[43m \u001b[49m\u001b[43m{\u001b[49m\n\u001b[1;32m      3\u001b[0m \u001b[43m  \u001b[49m\u001b[38;5;124;43m'\u001b[39;49m\u001b[38;5;124;43mRANK\u001b[39;49m\u001b[38;5;124;43m'\u001b[39;49m\u001b[43m:\u001b[49m\u001b[43m \u001b[49m\u001b[43m[\u001b[49m\u001b[38;5;124;43m'\u001b[39;49m\u001b[38;5;124;43mCaptain\u001b[39;49m\u001b[38;5;124;43m'\u001b[39;49m\u001b[43m,\u001b[49m\u001b[43m \u001b[49m\u001b[38;5;124;43m'\u001b[39;49m\u001b[38;5;124;43mLieutenant\u001b[39;49m\u001b[38;5;124;43m'\u001b[39;49m\u001b[43m,\u001b[49m\u001b[43m \u001b[49m\u001b[38;5;124;43m'\u001b[39;49m\u001b[38;5;124;43mSergeant\u001b[39;49m\u001b[38;5;124;43m'\u001b[39;49m\u001b[43m]\u001b[49m\u001b[43m,\u001b[49m\n\u001b[1;32m      4\u001b[0m \u001b[43m  \u001b[49m\u001b[38;5;124;43m'\u001b[39;49m\u001b[38;5;124;43mCLEARANCE_LEVEL\u001b[39;49m\u001b[38;5;124;43m'\u001b[39;49m\u001b[43m:\u001b[49m\u001b[43m \u001b[49m\u001b[43m[\u001b[49m\u001b[38;5;124;43m'\u001b[39;49m\u001b[38;5;124;43m1\u001b[39;49m\u001b[38;5;124;43m'\u001b[39;49m\u001b[43m,\u001b[49m\u001b[43m \u001b[49m\u001b[38;5;124;43m'\u001b[39;49m\u001b[38;5;124;43m2\u001b[39;49m\u001b[38;5;124;43m'\u001b[39;49m\u001b[43m,\u001b[49m\u001b[43m \u001b[49m\u001b[38;5;124;43m'\u001b[39;49m\u001b[38;5;124;43m3\u001b[39;49m\u001b[38;5;124;43m'\u001b[39;49m\u001b[43m]\u001b[49m\n\u001b[1;32m      5\u001b[0m \u001b[43m}\u001b[49m\u001b[43m)\u001b[49m\n\u001b[1;32m      6\u001b[0m \u001b[38;5;28mprint\u001b[39m(code)\n",
      "File \u001b[0;32m~/github/automation/codegen/templang/src/templang/main.py:77\u001b[0m, in \u001b[0;36mparse\u001b[0;34m(source_code, translations, prefix)\u001b[0m\n\u001b[1;32m     74\u001b[0m   \u001b[38;5;28;01mreturn\u001b[39;00m [output, \u001b[38;5;241m*\u001b[39mnext_lines], next_stack\n\u001b[1;32m     76\u001b[0m lines \u001b[38;5;241m=\u001b[39m source_code\u001b[38;5;241m.\u001b[39msplit(\u001b[38;5;124m'\u001b[39m\u001b[38;5;130;01m\\n\u001b[39;00m\u001b[38;5;124m'\u001b[39m)\n\u001b[0;32m---> 77\u001b[0m processed, _ \u001b[38;5;241m=\u001b[39m \u001b[43m_parse\u001b[49m\u001b[43m(\u001b[49m\u001b[43mlines\u001b[49m\u001b[43m,\u001b[49m\u001b[43m \u001b[49m\u001b[43m[\u001b[49m\u001b[43m]\u001b[49m\u001b[43m,\u001b[49m\u001b[43m \u001b[49m\u001b[38;5;28;43mdict\u001b[39;49m\u001b[43m(\u001b[49m\u001b[43mtranslations\u001b[49m\u001b[43m)\u001b[49m\u001b[43m)\u001b[49m\n\u001b[1;32m     78\u001b[0m \u001b[38;5;28;01mreturn\u001b[39;00m \u001b[38;5;124m'\u001b[39m\u001b[38;5;130;01m\\n\u001b[39;00m\u001b[38;5;124m'\u001b[39m\u001b[38;5;241m.\u001b[39mjoin(processed)\n",
      "File \u001b[0;32m~/github/automation/codegen/templang/src/templang/main.py:37\u001b[0m, in \u001b[0;36mparse.<locals>._parse\u001b[0;34m(lines, stack, translations)\u001b[0m\n\u001b[1;32m     34\u001b[0m line, \u001b[38;5;241m*\u001b[39mrest \u001b[38;5;241m=\u001b[39m lines\n\u001b[1;32m     36\u001b[0m \u001b[38;5;28;01mif\u001b[39;00m line\u001b[38;5;241m.\u001b[39mstrip()\u001b[38;5;241m.\u001b[39mstartswith(\u001b[38;5;124mf\u001b[39m\u001b[38;5;124m'\u001b[39m\u001b[38;5;132;01m{\u001b[39;00mprefix\u001b[38;5;132;01m}\u001b[39;00m\u001b[38;5;124m BEGIN\u001b[39m\u001b[38;5;124m'\u001b[39m):\n\u001b[0;32m---> 37\u001b[0m   \u001b[38;5;28;01mreturn\u001b[39;00m \u001b[43m_parse\u001b[49m\u001b[43m(\u001b[49m\u001b[43mrest\u001b[49m\u001b[43m,\u001b[49m\u001b[43m \u001b[49m\u001b[43m[\u001b[49m\u001b[38;5;241;43m*\u001b[39;49m\u001b[43mstack\u001b[49m\u001b[43m,\u001b[49m\u001b[43m \u001b[49m\u001b[38;5;124;43m'\u001b[39;49m\u001b[38;5;124;43mtemplate\u001b[39;49m\u001b[38;5;124;43m'\u001b[39;49m\u001b[43m]\u001b[49m\u001b[43m,\u001b[49m\u001b[43m \u001b[49m\u001b[43mtranslations\u001b[49m\u001b[43m)\u001b[49m\n\u001b[1;32m     39\u001b[0m \u001b[38;5;28;01melif\u001b[39;00m stack \u001b[38;5;241m==\u001b[39m []:\n\u001b[1;32m     40\u001b[0m   \u001b[38;5;28;01mreturn\u001b[39;00m _parse(rest, stack, translations)\n",
      "File \u001b[0;32m~/github/automation/codegen/templang/src/templang/main.py:73\u001b[0m, in \u001b[0;36mparse.<locals>._parse\u001b[0;34m(lines, stack, translations)\u001b[0m\n\u001b[1;32m     70\u001b[0m   \u001b[38;5;28;01mif\u001b[39;00m \u001b[38;5;28misinstance\u001b[39m(value, \u001b[38;5;28mstr\u001b[39m):\n\u001b[1;32m     71\u001b[0m     output \u001b[38;5;241m=\u001b[39m output\u001b[38;5;241m.\u001b[39mreplace(key, value)\n\u001b[0;32m---> 73\u001b[0m next_lines, next_stack \u001b[38;5;241m=\u001b[39m \u001b[43m_parse\u001b[49m\u001b[43m(\u001b[49m\u001b[43mrest\u001b[49m\u001b[43m,\u001b[49m\u001b[43m \u001b[49m\u001b[43mstack\u001b[49m\u001b[43m,\u001b[49m\u001b[43m \u001b[49m\u001b[43mtranslations\u001b[49m\u001b[43m)\u001b[49m\n\u001b[1;32m     74\u001b[0m \u001b[38;5;28;01mreturn\u001b[39;00m [output, \u001b[38;5;241m*\u001b[39mnext_lines], next_stack\n",
      "File \u001b[0;32m~/github/automation/codegen/templang/src/templang/main.py:73\u001b[0m, in \u001b[0;36mparse.<locals>._parse\u001b[0;34m(lines, stack, translations)\u001b[0m\n\u001b[1;32m     70\u001b[0m   \u001b[38;5;28;01mif\u001b[39;00m \u001b[38;5;28misinstance\u001b[39m(value, \u001b[38;5;28mstr\u001b[39m):\n\u001b[1;32m     71\u001b[0m     output \u001b[38;5;241m=\u001b[39m output\u001b[38;5;241m.\u001b[39mreplace(key, value)\n\u001b[0;32m---> 73\u001b[0m next_lines, next_stack \u001b[38;5;241m=\u001b[39m \u001b[43m_parse\u001b[49m\u001b[43m(\u001b[49m\u001b[43mrest\u001b[49m\u001b[43m,\u001b[49m\u001b[43m \u001b[49m\u001b[43mstack\u001b[49m\u001b[43m,\u001b[49m\u001b[43m \u001b[49m\u001b[43mtranslations\u001b[49m\u001b[43m)\u001b[49m\n\u001b[1;32m     74\u001b[0m \u001b[38;5;28;01mreturn\u001b[39;00m [output, \u001b[38;5;241m*\u001b[39mnext_lines], next_stack\n",
      "File \u001b[0;32m~/github/automation/codegen/templang/src/templang/main.py:73\u001b[0m, in \u001b[0;36mparse.<locals>._parse\u001b[0;34m(lines, stack, translations)\u001b[0m\n\u001b[1;32m     70\u001b[0m   \u001b[38;5;28;01mif\u001b[39;00m \u001b[38;5;28misinstance\u001b[39m(value, \u001b[38;5;28mstr\u001b[39m):\n\u001b[1;32m     71\u001b[0m     output \u001b[38;5;241m=\u001b[39m output\u001b[38;5;241m.\u001b[39mreplace(key, value)\n\u001b[0;32m---> 73\u001b[0m next_lines, next_stack \u001b[38;5;241m=\u001b[39m \u001b[43m_parse\u001b[49m\u001b[43m(\u001b[49m\u001b[43mrest\u001b[49m\u001b[43m,\u001b[49m\u001b[43m \u001b[49m\u001b[43mstack\u001b[49m\u001b[43m,\u001b[49m\u001b[43m \u001b[49m\u001b[43mtranslations\u001b[49m\u001b[43m)\u001b[49m\n\u001b[1;32m     74\u001b[0m \u001b[38;5;28;01mreturn\u001b[39;00m [output, \u001b[38;5;241m*\u001b[39mnext_lines], next_stack\n",
      "File \u001b[0;32m~/github/automation/codegen/templang/src/templang/main.py:58\u001b[0m, in \u001b[0;36mparse.<locals>._parse\u001b[0;34m(lines, stack, translations)\u001b[0m\n\u001b[1;32m     56\u001b[0m \u001b[38;5;28;01mfor\u001b[39;00m i \u001b[38;5;129;01min\u001b[39;00m \u001b[38;5;28mrange\u001b[39m(\u001b[38;5;28mmax\u001b[39m(\u001b[38;5;28mlen\u001b[39m(values[var]) \u001b[38;5;28;01mfor\u001b[39;00m var \u001b[38;5;129;01min\u001b[39;00m variables)):\n\u001b[1;32m     57\u001b[0m   nested_translations \u001b[38;5;241m=\u001b[39m translations \u001b[38;5;241m|\u001b[39m { var: values[var][i] \u001b[38;5;28;01mfor\u001b[39;00m var \u001b[38;5;129;01min\u001b[39;00m variables }\n\u001b[0;32m---> 58\u001b[0m   lines, _ \u001b[38;5;241m=\u001b[39m \u001b[43m_parse\u001b[49m\u001b[43m(\u001b[49m\u001b[43mrest\u001b[49m\u001b[43m,\u001b[49m\u001b[43m \u001b[49m\u001b[43m[\u001b[49m\u001b[38;5;241;43m*\u001b[39;49m\u001b[43mstack\u001b[49m\u001b[43m,\u001b[49m\u001b[43m \u001b[49m\u001b[38;5;124;43m'\u001b[39;49m\u001b[38;5;124;43mloop\u001b[39;49m\u001b[38;5;124;43m'\u001b[39;49m\u001b[43m]\u001b[49m\u001b[43m,\u001b[49m\u001b[43m \u001b[49m\u001b[43mnested_translations\u001b[49m\u001b[43m)\u001b[49m\n\u001b[1;32m     59\u001b[0m   loop_lines\u001b[38;5;241m.\u001b[39mextend(lines)\n\u001b[1;32m     61\u001b[0m skip_loop \u001b[38;5;241m=\u001b[39m drop_while(\u001b[38;5;28;01mlambda\u001b[39;00m x: \u001b[38;5;129;01mnot\u001b[39;00m x\u001b[38;5;241m.\u001b[39mstrip()\u001b[38;5;241m.\u001b[39mstartswith(\u001b[38;5;124mf\u001b[39m\u001b[38;5;124m'\u001b[39m\u001b[38;5;132;01m{\u001b[39;00mprefix\u001b[38;5;132;01m}\u001b[39;00m\u001b[38;5;124m END\u001b[39m\u001b[38;5;124m'\u001b[39m), rest)[\u001b[38;5;241m1\u001b[39m:]\n",
      "File \u001b[0;32m~/github/automation/codegen/templang/src/templang/main.py:73\u001b[0m, in \u001b[0;36mparse.<locals>._parse\u001b[0;34m(lines, stack, translations)\u001b[0m\n\u001b[1;32m     70\u001b[0m   \u001b[38;5;28;01mif\u001b[39;00m \u001b[38;5;28misinstance\u001b[39m(value, \u001b[38;5;28mstr\u001b[39m):\n\u001b[1;32m     71\u001b[0m     output \u001b[38;5;241m=\u001b[39m output\u001b[38;5;241m.\u001b[39mreplace(key, value)\n\u001b[0;32m---> 73\u001b[0m next_lines, next_stack \u001b[38;5;241m=\u001b[39m \u001b[43m_parse\u001b[49m\u001b[43m(\u001b[49m\u001b[43mrest\u001b[49m\u001b[43m,\u001b[49m\u001b[43m \u001b[49m\u001b[43mstack\u001b[49m\u001b[43m,\u001b[49m\u001b[43m \u001b[49m\u001b[43mtranslations\u001b[49m\u001b[43m)\u001b[49m\n\u001b[1;32m     74\u001b[0m \u001b[38;5;28;01mreturn\u001b[39;00m [output, \u001b[38;5;241m*\u001b[39mnext_lines], next_stack\n",
      "File \u001b[0;32m~/github/automation/codegen/templang/src/templang/main.py:73\u001b[0m, in \u001b[0;36mparse.<locals>._parse\u001b[0;34m(lines, stack, translations)\u001b[0m\n\u001b[1;32m     70\u001b[0m   \u001b[38;5;28;01mif\u001b[39;00m \u001b[38;5;28misinstance\u001b[39m(value, \u001b[38;5;28mstr\u001b[39m):\n\u001b[1;32m     71\u001b[0m     output \u001b[38;5;241m=\u001b[39m output\u001b[38;5;241m.\u001b[39mreplace(key, value)\n\u001b[0;32m---> 73\u001b[0m next_lines, next_stack \u001b[38;5;241m=\u001b[39m \u001b[43m_parse\u001b[49m\u001b[43m(\u001b[49m\u001b[43mrest\u001b[49m\u001b[43m,\u001b[49m\u001b[43m \u001b[49m\u001b[43mstack\u001b[49m\u001b[43m,\u001b[49m\u001b[43m \u001b[49m\u001b[43mtranslations\u001b[49m\u001b[43m)\u001b[49m\n\u001b[1;32m     74\u001b[0m \u001b[38;5;28;01mreturn\u001b[39;00m [output, \u001b[38;5;241m*\u001b[39mnext_lines], next_stack\n",
      "    \u001b[0;31m[... skipping similar frames: parse.<locals>._parse at line 73 (1 times)]\u001b[0m\n",
      "File \u001b[0;32m~/github/automation/codegen/templang/src/templang/main.py:73\u001b[0m, in \u001b[0;36mparse.<locals>._parse\u001b[0;34m(lines, stack, translations)\u001b[0m\n\u001b[1;32m     70\u001b[0m   \u001b[38;5;28;01mif\u001b[39;00m \u001b[38;5;28misinstance\u001b[39m(value, \u001b[38;5;28mstr\u001b[39m):\n\u001b[1;32m     71\u001b[0m     output \u001b[38;5;241m=\u001b[39m output\u001b[38;5;241m.\u001b[39mreplace(key, value)\n\u001b[0;32m---> 73\u001b[0m next_lines, next_stack \u001b[38;5;241m=\u001b[39m \u001b[43m_parse\u001b[49m\u001b[43m(\u001b[49m\u001b[43mrest\u001b[49m\u001b[43m,\u001b[49m\u001b[43m \u001b[49m\u001b[43mstack\u001b[49m\u001b[43m,\u001b[49m\u001b[43m \u001b[49m\u001b[43mtranslations\u001b[49m\u001b[43m)\u001b[49m\n\u001b[1;32m     74\u001b[0m \u001b[38;5;28;01mreturn\u001b[39;00m [output, \u001b[38;5;241m*\u001b[39mnext_lines], next_stack\n",
      "File \u001b[0;32m~/github/automation/codegen/templang/src/templang/main.py:46\u001b[0m, in \u001b[0;36mparse.<locals>._parse\u001b[0;34m(lines, stack, translations)\u001b[0m\n\u001b[1;32m     43\u001b[0m   \u001b[38;5;28;01mreturn\u001b[39;00m [], stack[:\u001b[38;5;241m-\u001b[39m\u001b[38;5;241m1\u001b[39m]\n\u001b[1;32m     45\u001b[0m \u001b[38;5;28;01mif\u001b[39;00m \u001b[38;5;124mf\u001b[39m\u001b[38;5;124m'\u001b[39m\u001b[38;5;132;01m{\u001b[39;00mprefix\u001b[38;5;132;01m}\u001b[39;00m\u001b[38;5;124m DELETE\u001b[39m\u001b[38;5;124m'\u001b[39m \u001b[38;5;129;01min\u001b[39;00m line:\n\u001b[0;32m---> 46\u001b[0m   \u001b[38;5;28;01mreturn\u001b[39;00m \u001b[43m_parse\u001b[49m\u001b[43m(\u001b[49m\u001b[43mrest\u001b[49m\u001b[43m,\u001b[49m\u001b[43m \u001b[49m\u001b[43mstack\u001b[49m\u001b[43m,\u001b[49m\u001b[43m \u001b[49m\u001b[43mtranslations\u001b[49m\u001b[43m)\u001b[49m\n\u001b[1;32m     48\u001b[0m \u001b[38;5;28;01mif\u001b[39;00m line\u001b[38;5;241m.\u001b[39mstrip()\u001b[38;5;241m.\u001b[39mstartswith(\u001b[38;5;124mf\u001b[39m\u001b[38;5;124m'\u001b[39m\u001b[38;5;132;01m{\u001b[39;00mprefix\u001b[38;5;132;01m}\u001b[39;00m\u001b[38;5;124m LOOP\u001b[39m\u001b[38;5;124m'\u001b[39m):\n\u001b[1;32m     49\u001b[0m   variables \u001b[38;5;241m=\u001b[39m line\u001b[38;5;241m.\u001b[39msplit(\u001b[38;5;124mf\u001b[39m\u001b[38;5;124m'\u001b[39m\u001b[38;5;132;01m{\u001b[39;00mprefix\u001b[38;5;132;01m}\u001b[39;00m\u001b[38;5;124m LOOP\u001b[39m\u001b[38;5;124m'\u001b[39m)[\u001b[38;5;241m1\u001b[39m]\u001b[38;5;241m.\u001b[39mstrip()\u001b[38;5;241m.\u001b[39msplit(\u001b[38;5;124m'\u001b[39m\u001b[38;5;124m \u001b[39m\u001b[38;5;124m'\u001b[39m)\n",
      "File \u001b[0;32m~/github/automation/codegen/templang/src/templang/main.py:57\u001b[0m, in \u001b[0;36mparse.<locals>._parse\u001b[0;34m(lines, stack, translations)\u001b[0m\n\u001b[1;32m     55\u001b[0m loop_lines \u001b[38;5;241m=\u001b[39m []\n\u001b[1;32m     56\u001b[0m \u001b[38;5;28;01mfor\u001b[39;00m i \u001b[38;5;129;01min\u001b[39;00m \u001b[38;5;28mrange\u001b[39m(\u001b[38;5;28mmax\u001b[39m(\u001b[38;5;28mlen\u001b[39m(values[var]) \u001b[38;5;28;01mfor\u001b[39;00m var \u001b[38;5;129;01min\u001b[39;00m variables)):\n\u001b[0;32m---> 57\u001b[0m   nested_translations \u001b[38;5;241m=\u001b[39m translations \u001b[38;5;241m|\u001b[39m \u001b[43m{\u001b[49m\u001b[43m \u001b[49m\u001b[43mvar\u001b[49m\u001b[43m:\u001b[49m\u001b[43m \u001b[49m\u001b[43mvalues\u001b[49m\u001b[43m[\u001b[49m\u001b[43mvar\u001b[49m\u001b[43m]\u001b[49m\u001b[43m[\u001b[49m\u001b[43mi\u001b[49m\u001b[43m]\u001b[49m\u001b[43m \u001b[49m\u001b[38;5;28;43;01mfor\u001b[39;49;00m\u001b[43m \u001b[49m\u001b[43mvar\u001b[49m\u001b[43m \u001b[49m\u001b[38;5;129;43;01min\u001b[39;49;00m\u001b[43m \u001b[49m\u001b[43mvariables\u001b[49m\u001b[43m \u001b[49m\u001b[43m}\u001b[49m\n\u001b[1;32m     58\u001b[0m   lines, _ \u001b[38;5;241m=\u001b[39m _parse(rest, [\u001b[38;5;241m*\u001b[39mstack, \u001b[38;5;124m'\u001b[39m\u001b[38;5;124mloop\u001b[39m\u001b[38;5;124m'\u001b[39m], nested_translations)\n\u001b[1;32m     59\u001b[0m   loop_lines\u001b[38;5;241m.\u001b[39mextend(lines)\n",
      "File \u001b[0;32m~/github/automation/codegen/templang/src/templang/main.py:57\u001b[0m, in \u001b[0;36m<dictcomp>\u001b[0;34m(.0)\u001b[0m\n\u001b[1;32m     55\u001b[0m loop_lines \u001b[38;5;241m=\u001b[39m []\n\u001b[1;32m     56\u001b[0m \u001b[38;5;28;01mfor\u001b[39;00m i \u001b[38;5;129;01min\u001b[39;00m \u001b[38;5;28mrange\u001b[39m(\u001b[38;5;28mmax\u001b[39m(\u001b[38;5;28mlen\u001b[39m(values[var]) \u001b[38;5;28;01mfor\u001b[39;00m var \u001b[38;5;129;01min\u001b[39;00m variables)):\n\u001b[0;32m---> 57\u001b[0m   nested_translations \u001b[38;5;241m=\u001b[39m translations \u001b[38;5;241m|\u001b[39m { var: \u001b[43mvalues\u001b[49m\u001b[43m[\u001b[49m\u001b[43mvar\u001b[49m\u001b[43m]\u001b[49m\u001b[43m[\u001b[49m\u001b[43mi\u001b[49m\u001b[43m]\u001b[49m \u001b[38;5;28;01mfor\u001b[39;00m var \u001b[38;5;129;01min\u001b[39;00m variables }\n\u001b[1;32m     58\u001b[0m   lines, _ \u001b[38;5;241m=\u001b[39m _parse(rest, [\u001b[38;5;241m*\u001b[39mstack, \u001b[38;5;124m'\u001b[39m\u001b[38;5;124mloop\u001b[39m\u001b[38;5;124m'\u001b[39m], nested_translations)\n\u001b[1;32m     59\u001b[0m   loop_lines\u001b[38;5;241m.\u001b[39mextend(lines)\n",
      "\u001b[0;31mIndexError\u001b[0m: list index out of range"
     ]
    }
   ],
   "source": [
    "source = open('example.py').read()\n",
    "code = parse(source, {\n",
    "  'RANK': ['Captain', 'Lieutenant', 'Sergeant'],\n",
    "  'CLEARANCE_LEVEL': ['1', '2', '3']\n",
    "})\n",
    "print(code)"
   ]
  },
  {
   "cell_type": "code",
   "execution_count": null,
   "metadata": {},
   "outputs": [
    {
     "name": "stdout",
     "output_type": "stream",
     "text": [
      "type Named = {\n",
      "  name: string\n",
      "}\n",
      "\n",
      "type Aged = {\n",
      "  age: number\n",
      "}\n",
      "\n",
      "export {\n",
      "  Named,\n",
      "  Aged,\n",
      "}\n"
     ]
    }
   ],
   "source": [
    "with open('example.ts') as f:\n",
    "  source = f.read()\n",
    "\n",
    "print(parse(source, {\n",
    "  'TYPE': ['Named', 'Aged'],\n",
    "  'ATTR': ['name', 'age'],\n",
    "  'ATR_TYP': ['string', 'number']\n",
    "}, prefix='//'))"
   ]
  }
 ],
 "metadata": {
  "kernelspec": {
   "display_name": ".venv",
   "language": "python",
   "name": "python3"
  },
  "language_info": {
   "codemirror_mode": {
    "name": "ipython",
    "version": 3
   },
   "file_extension": ".py",
   "mimetype": "text/x-python",
   "name": "python",
   "nbconvert_exporter": "python",
   "pygments_lexer": "ipython3",
   "version": "3.11.6"
  }
 },
 "nbformat": 4,
 "nbformat_minor": 2
}
