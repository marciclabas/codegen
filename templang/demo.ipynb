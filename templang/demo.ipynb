{
 "cells": [
  {
   "cell_type": "code",
   "execution_count": 3,
   "metadata": {},
   "outputs": [],
   "source": [
    "from templang import parse"
   ]
  },
  {
   "cell_type": "code",
   "execution_count": 4,
   "metadata": {},
   "outputs": [
    {
     "name": "stdout",
     "output_type": "stream",
     "text": [
      "from typing import Union\n",
      "\n",
      "Marriage = Union[\n",
      "  tuple [\n",
      "    'John',\n",
      "    'Jane',\n",
      "  ],\n",
      "  tuple [\n",
      "    'Stuart',\n",
      "    'Alice',\n",
      "  ],\n",
      "]\n"
     ]
    }
   ],
   "source": [
    "source = open('nested.py').read()\n",
    "print(parse(source, { 'NAMES': [['John', 'Jane'], ['Stuart', 'Alice']] }))"
   ]
  },
  {
   "cell_type": "code",
   "execution_count": 2,
   "metadata": {},
   "outputs": [
    {
     "name": "stdout",
     "output_type": "stream",
     "text": [
      "from typing import Literal\n",
      "\n",
      "Rank = Literal[\n",
      "  'Captain',\n",
      "  'Lieutenant',\n",
      "  'Sergeant',\n",
      "]\n",
      "\n",
      "class Captain:\n",
      "  clearance_level: 1\n",
      "\n",
      "class Lieutenant:\n",
      "  clearance_level: 2\n",
      "\n",
      "class Sergeant:\n",
      "  clearance_level: 3\n",
      "\n"
     ]
    }
   ],
   "source": [
    "source = open('example.py').read()\n",
    "code = parse(source, {\n",
    "  'RANK': ['Captain', 'Lieutenant', 'Sergeant'],\n",
    "  'CLEARANCE_LEVEL': ['1', '2', '3']\n",
    "})\n",
    "print(code)"
   ]
  },
  {
   "cell_type": "code",
   "execution_count": 3,
   "metadata": {},
   "outputs": [
    {
     "name": "stdout",
     "output_type": "stream",
     "text": [
      "type Named = {\n",
      "  name: string\n",
      "}\n",
      "\n",
      "type Aged = {\n",
      "  age: number\n",
      "}\n",
      "\n",
      "export {\n",
      "  Named,\n",
      "  Aged,\n",
      "}\n"
     ]
    }
   ],
   "source": [
    "with open('example.ts') as f:\n",
    "  source = f.read()\n",
    "\n",
    "print(parse(source, {\n",
    "  'TYPE': ['Named', 'Aged'],\n",
    "  'ATTR': ['name', 'age'],\n",
    "  'ATR_TYP': ['string', 'number']\n",
    "}, prefix='//'))"
   ]
  }
 ],
 "metadata": {
  "kernelspec": {
   "display_name": ".venv",
   "language": "python",
   "name": "python3"
  },
  "language_info": {
   "codemirror_mode": {
    "name": "ipython",
    "version": 3
   },
   "file_extension": ".py",
   "mimetype": "text/x-python",
   "name": "python",
   "nbconvert_exporter": "python",
   "pygments_lexer": "ipython3",
   "version": "3.11.6"
  }
 },
 "nbformat": 4,
 "nbformat_minor": 2
}
